{
 "cells": [
  {
   "cell_type": "code",
   "execution_count": 3,
   "metadata": {},
   "outputs": [
    {
     "name": "stdout",
     "output_type": "stream",
     "text": [
      "2018-03-01_22h56.v03\n"
     ]
    }
   ],
   "source": [
    "def maakversienummer(dagnummer = 0):\n",
    "    \n",
    "    # deze functie maakt een versienummer gebaseerd op datum, tijd en een extra dagnummer\n",
    "    \n",
    "    import time\n",
    "    \n",
    "    jaar = time.strftime(\"%Y\")\n",
    "    maand = time.strftime(\"%m\")\n",
    "    dag = time.strftime(\"%d\")\n",
    "    uur = time.strftime(\"%H\")\n",
    "    minuten = time.strftime(\"%M\")\n",
    "\n",
    "    versie = \"{}-{}-{}_{}h{}.v\".format(jaar,maand,dag,uur,minuten)\n",
    "\n",
    "    if dagnummer < 10: # bij getallen onder de 10 voeg een extra 0 toe zodat bij getallen onder de 100 er alfabetische sortering mogelijk is\n",
    "        dagnummer = \"0\" + str(dagnummer)\n",
    "    else:\n",
    "        dagnummer = str(dagnummer)\n",
    "    \n",
    "    versie = versie + dagnummer\n",
    "    return versie\n",
    "\n",
    "print(maakversienummer(3))"
   ]
  }
 ],
 "metadata": {
  "kernelspec": {
   "display_name": "Python 3",
   "language": "python",
   "name": "python3"
  },
  "language_info": {
   "codemirror_mode": {
    "name": "ipython",
    "version": 3
   },
   "file_extension": ".py",
   "mimetype": "text/x-python",
   "name": "python",
   "nbconvert_exporter": "python",
   "pygments_lexer": "ipython3",
   "version": "3.6.3"
  }
 },
 "nbformat": 4,
 "nbformat_minor": 2
}
